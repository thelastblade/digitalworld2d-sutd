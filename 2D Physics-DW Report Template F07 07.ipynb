{
 "cells": [
  {
   "cell_type": "markdown",
   "metadata": {},
   "source": [
    "# Report for 2D Project Physical World and Digital World\n",
    "\n",
    "Cohort: 07\n",
    "\n",
    "Team No.: 07\n",
    "\n",
    "Members:\n",
    "* Ang Jing Yuen Andre (1003308)\n",
    "* Tim Yap Ming En (1003495)\n",
    "* Cao Bingquan (1003881)\n",
    "* Dionetta Young (1003735)\n",
    "* Lan Xiaojin (1003773)\n"
   ]
  },
  {
   "cell_type": "markdown",
   "metadata": {},
   "source": [
    "# Introduction\n",
    "\n",
    "The objective is to overcome the waiting time that is required for a thermometer to reach thermal equilibrium with a water bath before obtaining the temperature. Our solution is to write a program that reads data from a DS18B20 temperature sensor and use machine learning and statistical analysis to predict the actual temperature of a water bath accurately within the range of 10℃ to 60℃ in the shortest time possible. \n",
    "\n",
    "Based on experimental data from the Physical World analysis, we found out that the inital gradient of the temperature of the sensor against time graph is linearly related to the temperature of the water bath. The initial gradient of the first 20 seconds can be determined by the temperature sensor and obtained using python code. As such, a linear regression model can be used to predict the temperature of the water bath given the initial gradient of the temperature against time graph. "
   ]
  },
  {
   "cell_type": "markdown",
   "metadata": {},
   "source": [
    "# Description of Data from Experiment"
   ]
  },
  {
   "cell_type": "markdown",
   "metadata": {},
   "source": [
    "## Data Collection\n",
    "\n",
    "A water bath is set up in an insulated container of volume 1L, for a given temperature of water bath. A laboratory thermometer is then used to record the temperature of the water bath. The temperature sensor is placed in the water bath to keep track of the temperature reading of the temperature sensor. \n",
    "\n",
    "We created a class called Stopwatch to record the time elapsed. \n",
    "\n",
    "The function read_temp() records the temperature in degrees Celsius of the water bath. From 0 to 20 seconds, at a time interval of 0.5 seconds, the function collect_data records both the temperature reading, through the read_temp() function, and elapsed time as a tuple. The function appends this data to a list that it returns at time = 20 seconds. \n",
    "\n",
    "The string of the list of tuples of elapsed time and sensor temperature is then written into a text document.\n",
    "\n",
    "The following is an example of the data. \n",
    "e.g. [(0.901, 25.812), (1.941, 29.562), (2.901, 34.937), (3.861, 38.125), (4.901, 40.312), (5.861, 41.875), (6.821, 43.0), (7.781, 44.0), (8.741, 45.0), (9.701, 45.937), (10.661, 46.812), (11.621, 47.625), (12.581, 48.312), (13.541, 48.875), (14.521, 49.375), (15.541, 49.875), (16.501, 50.375), (17.461, 50.812), (18.421, 51.187), (19.381, 51.5), (20.341, 51.75), '55.5']\n",
    "\n",
    "The function, avg_grad(), then takes the list of data points andcalculate the gradient between the first and subsequent points in the list. The gradients are then appended into a new list.\n",
    "\n",
    "The following is an example of the gradient list. \n",
    "e.g. \n",
    "\n",
    "The average gradient is then determined. \n",
    "e.g.\n",
    "\n",
    "\n"
   ]
  },
  {
   "cell_type": "markdown",
   "metadata": {},
   "source": [
    "## Data Preparation\n",
    "\n",
    "The temperature readings previously recorded are obtained from the text document. The average initial gradient is plotted against the temperature of water bath.\n",
    "\n",
    "We split the dataset into the train and test set using the train_test_split function at a test_size of 0.4. \n",
    "\n",
    "Using the train datasets, we generate the polynomial and interaction features and generate a new feature matrix consisting of all polynomial combinations of the features with degree less than or equal to the specified degree. The datasets are then fitted and transformed to the polynomial feature. \n",
    "\n",
    "The plot of average initial gradient against the temperature for the remaining --- test datasets have a resulting R-squared value of ---."
   ]
  },
  {
   "cell_type": "markdown",
   "metadata": {},
   "source": [
    "## Data Format\n",
    "\n",
    "Describe your data and its features. Include any codes or visualization of data."
   ]
  },
  {
   "cell_type": "markdown",
   "metadata": {},
   "source": [
    "# Training Model\n",
    "\n",
    "Describe how you train your model. Include any code and output"
   ]
  },
  {
   "cell_type": "markdown",
   "metadata": {},
   "source": [
    "# Verification and Accuracy\n",
    "\n",
    "Describe how you check the accuracy of your model and its result. State any analysis you have and the steps you have taken to improve its accuracy."
   ]
  },
  {
   "cell_type": "markdown",
   "metadata": {},
   "source": [
    "# Example Scripts"
   ]
  },
  {
   "cell_type": "markdown",
   "metadata": {},
   "source": [
    "Instruction:\n",
    "\n",
    "* Read an excel file with the following format:\n",
    "```\n",
    "time (s)\treading\n",
    "0.00\t    25.812\n",
    "0.90\t    28.562\n",
    "1.79\t    31.875\n",
    "2.68\t    35.062\n",
    "3.55\t    37.937\n",
    "4.43\t    40.687\n",
    "5.30\t    43.25\n",
    "```\n",
    "where the first column indicates the time in seconds and the second column indicates the sensor reading in Celsius. \n",
    "* Write a code to prepare the data, extract the features.\n",
    "* Write a code to split the data.\n",
    "* Write a code to train the model.\n",
    "* Write a code to predict the final temperature.\n",
    "* Write a code to check accuracy.\n",
    "\n",
    "**The script below is just for your example. You don't have to use it and you can write your own script.**\n",
    "\n"
   ]
  },
  {
   "cell_type": "code",
   "execution_count": null,
   "metadata": {},
   "outputs": [],
   "source": [
    "# write a code to read an excel file\n",
    "import pandas as pd\n",
    "import numpy as np\n",
    "from sklearn import linear_model \n",
    "from sklearn.metrics import mean_squared_error, r2_score\n",
    "\n",
    "# specify the base of your filename, e.g. temp_1.xlsx, temp_2.xlsx\n",
    "filename = 'temp_' \n",
    "\n",
    "# if you have more than one files, \n",
    "# you can use some key to differentiate them, e.g. '1', '2'\n",
    "filekeys = [] \n",
    "\n",
    "# this is to store the data for different files, \n",
    "# the keys are in filekeys\n",
    "dataframe = {} \n",
    "for key in filekeys:\n",
    "    dataframe[key] = pd.read_excel(filename + key + '.xlsx')\n"
   ]
  },
  {
   "cell_type": "code",
   "execution_count": null,
   "metadata": {
    "collapsed": true
   },
   "outputs": [],
   "source": [
    "# write a code to prepare the data for predicting\n",
    "def preprocess(df):\n",
    "    # use this function to extract the features from the data frame\n",
    "    pass\n",
    "\n",
    "data_processed = {}\n",
    "for key in filekeys:\n",
    "    data_processed[key]=preprocess(dataframe[key])"
   ]
  },
  {
   "cell_type": "code",
   "execution_count": null,
   "metadata": {},
   "outputs": [],
   "source": [
    "# write a code to split the data to train and test\n",
    "def prepare_train_test(data):\n",
    "    \n",
    "\n",
    "data_train, data_test = prepare_train_test(data_processed)"
   ]
  },
  {
   "cell_type": "code",
   "execution_count": null,
   "metadata": {},
   "outputs": [],
   "source": [
    "# write a code to train the model\n",
    "# the function should return the trained model\n",
    "def train_model(data):\n",
    "    pass\n",
    "\n",
    "model = train_model(data_train)"
   ]
  },
  {
   "cell_type": "code",
   "execution_count": null,
   "metadata": {
    "collapsed": true
   },
   "outputs": [],
   "source": [
    "# write a code to predict the final temperature\n",
    "# store the predicted temperature in a variable called \"predicted\"\n",
    "# predicted is a dictionary where the keys are listed in filekey\n",
    "\n",
    "predicted = {}\n",
    "for key in filekeys:\n",
    "    predicted[key]=model.predict(data_test[key])"
   ]
  },
  {
   "cell_type": "code",
   "execution_count": null,
   "metadata": {
    "collapsed": true
   },
   "outputs": [],
   "source": [
    "# write a code to check your accuracy\n",
    "\n"
   ]
  }
 ],
 "metadata": {
  "kernelspec": {
   "display_name": "Python 3",
   "language": "python",
   "name": "python3"
  },
  "language_info": {
   "codemirror_mode": {
    "name": "ipython",
    "version": 3
   },
   "file_extension": ".py",
   "mimetype": "text/x-python",
   "name": "python",
   "nbconvert_exporter": "python",
   "pygments_lexer": "ipython3",
   "version": "3.7.1"
  }
 },
 "nbformat": 4,
 "nbformat_minor": 2
}
