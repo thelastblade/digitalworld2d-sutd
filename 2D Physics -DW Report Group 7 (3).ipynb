{
 "cells": [
  {
   "cell_type": "markdown",
   "metadata": {},
   "source": [
    "# Report for 2D Project Physical World and Digital World\n",
    "\n",
    "Cohort: 07\n",
    "\n",
    "Team No.: 07\n",
    "\n",
    "Members:\n",
    "* Ang Jing Yuen Andre (1003308)\n",
    "* Tim Yap Ming En (1003495)\n",
    "* Cao Bingquan (1003881)\n",
    "* Dionetta Young (1003735)\n",
    "* Lan Xiaojin (1003773)\n"
   ]
  },
  {
   "cell_type": "markdown",
   "metadata": {},
   "source": [
    "# Introduction\n",
    "\n",
    "The objective is to overcome the waiting time that is required for a thermometer to reach thermal equilibrium with a water bath before obtaining the temperature. Our solution is to write a program that reads data from a DS18B20 temperature sensor and use machine learning and statistical analysis to predict the actual temperature of a water bath accurately within the range of 10℃ to 60℃ in the shortest time possible. \n",
    "\n",
    "Based on experimental data from the Physical World analysis, we found out that the inital gradient of the temperature of the sensor against time graph is linearly related to the temperature of the water bath. The initial gradient of the first 20 seconds can be determined by the temperature sensor and obtained using python code. As such, a linear regression model can be used to predict the temperature of the water bath given the initial gradient of the temperature against time graph. "
   ]
  },
  {
   "cell_type": "markdown",
   "metadata": {},
   "source": [
    "# Description of Data from Experiment"
   ]
  },
  {
   "cell_type": "markdown",
   "metadata": {},
   "source": [
    "## Data Collection\n",
    "\n",
    "A water bath is set up in an insulated container of volume 1L, for a given temperature of water bath. A laboratory thermometer is then used to record the temperature of the water bath. The temperature sensor is placed in the water bath to keep track of the temperature reading of the temperature sensor. \n",
    "\n",
    "We created a class called Stopwatch to record the time elapsed. \n",
    "\n",
    "The function read_temp() records the temperature in degrees Celsius of the water bath. From 0 to 20 seconds, at a time interval of 0.1 seconds, the function collect_data records both the temperature reading, through the read_temp() function, and elapsed time as a tuple. The function appends this data to a list that it returns at time = 20 seconds. \n",
    "\n",
    "A list of tuples containing the float of the elapsed_time and the sensor temperature is then written into a text document.\n",
    "\n",
    "The following is an example of the data. \n",
    "e.g. [(0.901, 25.812), (1.941, 29.562), (2.901, 34.937), (3.861, 38.125), (4.901, 40.312), (5.861, 41.875), (6.821, 43.0), (7.781, 44.0), (8.741, 45.0), (9.701, 45.937), (10.661, 46.812), (11.621, 47.625), (12.581, 48.312), (13.541, 48.875), (14.521, 49.375), (15.541, 49.875), (16.501, 50.375), (17.461, 50.812), (18.421, 51.187), (19.381, 51.5), (20.341, 51.75), '55.5']\n",
    "\n",
    "A total of 1332 datapoints of the elapsed_time and the temperature readings of sensors were collected at 37 different temperature of the water bath."
   ]
  },
  {
   "cell_type": "code",
   "execution_count": null,
   "metadata": {},
   "outputs": [],
   "source": [
    "#The following code was run on the RPi to collect data at different temperatures of the water bath\n",
    "\n",
    "#Modules imported for tracking time and to initialise the temperature sensor\n",
    "import os\n",
    "import glob\n",
    "import time\n",
    "\n",
    "#code to connect the GPIO to the temperature sensor on the RPi\n",
    "os.system('modprobe w1-gpio')\n",
    "os.system('modprobe w1-therm')\n",
    "\n",
    "base_dir = '/sys/bus/w1/devices/'\n",
    "device_folder = glob.glob(base_dir + '28*')[0]\n",
    "device_file = device_folder + '/w1_slave' #w1_slave is used to callback temperatures\n",
    "\n",
    "\n",
    "#StopWatch class that creates a stopwatch to track time\n",
    "class StopWatch:\n",
    "    #initialise start_time and end_time\n",
    "    def __init__(self, start_time = time.time(), end_time = -1):\n",
    "        self.start_time = start_time\n",
    "        self.end_time = end_time\n",
    "    \n",
    "    #defines a method to start the time during the start of the reading\n",
    "    def start(self):\n",
    "        self.start_time = time.time()\n",
    "    \n",
    "    #defines a method to get the elapsed time of the sensor taking reading\n",
    "    def elapsed_time(self):\n",
    "        x = time.time()\n",
    "        y = self.start_time\n",
    "        return round((x - y),3) #return time elapsed in seconds, to 3 dp\n",
    "\n",
    "#create stopwatch object with class StopWatch\n",
    "sw = StopWatch()\n",
    "\n",
    "#read_temp_raw is used to read the terminal of the RPi\n",
    "def read_temp_raw():\n",
    "    f = open(device_file, 'r')\n",
    "    lines = f.readlines()\n",
    "    f.close()\n",
    "    return lines\n",
    "\n",
    "#read_temp takes the raw data of read_temp_raw and returns a normalised temperature reading in Celcius\n",
    "def read_temp():\n",
    "   lines = read_temp_raw()\n",
    "   while lines[0].strip()[-3:] != 'YES':\n",
    "       time.sleep(0.2)\n",
    "       lines = read_temp_raw()\n",
    "   equals_pos = lines[1].find('t=')\n",
    "   if equals_pos != -1:\n",
    "        temp_string = lines[1][equals_pos +2:]\n",
    "        temp_c = float(temp_string)/ 1000.0\n",
    "        \n",
    "        return temp_c\n",
    "    \n",
    "#write_file is used to write the data obtained to a file on the RPi to be extracted when done\n",
    "def write_file(temp):\n",
    "    f = open('temp data.txt','a')\n",
    "    f.write(str(temp)+',')\n",
    "    f.close()\n",
    "\n",
    "#Function to collect [(elapsed_time, temperature reading)] for a given temperature of the water bath and appends to the .txt file\n",
    "def collect_data():\n",
    "    output = []\n",
    "    sw.start_time #starts the time on the stopwatch\n",
    "    \n",
    "    #creates a loop to collect data every 0.1 second to 20 seconds\n",
    "    while True:\n",
    "        temp_c = read_temp()\n",
    "        dataset = (sw.elapsed_time(),temp_c)\n",
    "        time.sleep(0.1)\n",
    "        output.append(dataset)\n",
    "        if sw.elapsed_time()>20:\n",
    "            Tw = input('what is Thermometer reading?') #gets the user to input the thermometer reading for the temperature of the water bath\n",
    "            output.append(Tw)\n",
    "            write_file(output)\n",
    "            return output  \n",
    "\n",
    "collect_data()\n"
   ]
  },
  {
   "cell_type": "markdown",
   "metadata": {},
   "source": [
    "## Data Preparation\n",
    "\n",
    "The temperature readings previously recorded are obtained from the text document. For each dataset, the average initial gradient and the temperature of the water can be found using the function extract_data() which returns a 2 lists, the first is a 2D array of the average gradients the second is a 2D array of the temperature of the water bath.\n",
    "The temperature of the water bath is plotted against the average initial gradient.\n",
    "\n",
    "After obtaining the 2 parameters, the function linear_regression(avg_grad_1, Tw_data_1, size, seed) is used to generate the linear model.\n",
    "\n",
    "First the dataset is split into the train set and the test set with thh train_test_split function of sklearn. The dataset is split with (size) of the dataset being the test set and (1-size) of the dataset being the train set at a random_state of (seed). \n",
    "\n",
    "The following were the parameters that we used to obtain our dataset. \n",
    "e.g. linear_regression(avg_grad_1, Tw_data_1, 0.4, 2752)\n",
    "\n",
    "After obtaining the train datasets, we fit a linear regression model to the data and return the coefficient and intercept for the prediction model of the temperature of the water.\n",
    "\n",
    "The plot of average initial gradient against the temperature for the test datasets have a resulting R-squared value of 0.955.\n",
    "\n",
    "\n",
    "The following is an example of the data. \n",
    "e.g. [(0.901, 25.812), (1.941, 29.562), (2.901, 34.937), (3.861, 38.125), (4.901, 40.312), (5.861, 41.875), (6.821, 43.0), (7.781, 44.0), (8.741, 45.0), (9.701, 45.937), (10.661, 46.812), (11.621, 47.625), (12.581, 48.312), (13.541, 48.875), (14.521, 49.375), (15.541, 49.875), (16.501, 50.375), (17.461, 50.812), (18.421, 51.187), (19.381, 51.5), (20.341, 51.75), '55.5']\n",
    "\n",
    "The function, avg_grad(), then takes the list of data points and calculate the gradient between the first and subsequent points in the list. The gradients are then appended into a new list.\n",
    "\n",
    "The following is an example of the gradient list. \n",
    "e.g. [4.562499999999999, 4.159797297297297, 3.624999999999999, 3.238508064516129, 2.9033783783783784, 2.6436046511627906, 2.4474489795918366, 2.2869318181818175, 2.151639344262295, 2.0347947761194027, 1.9263698630136983, 1.8246044303797466, 1.7300293685756238, 1.6436475409836064, 1.574551282051282, 1.509661835748792, 1.4483447488584473, 1.39004329004329, 1.334259259259259]\n",
    "The average gradient is then determined. \n",
    "e.g. 2.33869025939072\n",
    "\n",
    "The average initial gradient and the temperature of the water bath were then put into a train_test_split to ascertain a linear resgression between the 2 variables.\n",
    "\n",
    "A total of 35 datasets of temperature of waterbath and estimated initial gradient were collected.\n",
    "\n"
   ]
  },
  {
   "cell_type": "markdown",
   "metadata": {},
   "source": [
    "## Data Format\n",
    "\n",
    "The features of the linear regression model is a numpy 2D array of the estimated average initial gradient from the dataset from the start_time to the 20seconds. Labelled as x\n",
    "\n",
    "The label of the data is a numpy 2D array of the temperature of the water bath.\n",
    "\n",
    "e.g. x_train = array([[ 1.72745749],\n",
    "       [ 1.96714688],\n",
    "       [-0.66755193],\n",
    "       [ 1.43305237],\n",
    "       [ 1.19910881],\n",
    "       [ 1.88458582],\n",
    "       [ 1.78132902],\n",
    "       [ 1.41904691],\n",
    "       [-0.58819454],\n",
    "       [ 2.15229109],\n",
    "       [-0.71432488],\n",
    "       [ 2.17870241],\n",
    "       [ 1.27897004],\n",
    "       [ 1.56357202],\n",
    "       [ 1.31130386],\n",
    "       [ 1.41093417],\n",
    "       [ 1.55509185],\n",
    "       [ 1.7445255 ],\n",
    "       [ 1.60115305],\n",
    "       [ 2.20024851],\n",
    "       [ 1.32921523]])\n",
    "       \n",
    "       y_train = array([[47.6],\n",
    "       [50.3],\n",
    "       [16.3],\n",
    "       [43.3],\n",
    "       [39. ],\n",
    "       [48.5],\n",
    "       [47.2],\n",
    "       [42.9],\n",
    "       [16.3],\n",
    "       [51.1],\n",
    "       [16. ],\n",
    "       [53. ],\n",
    "       [41.6],\n",
    "       [45. ],\n",
    "       [41.1],\n",
    "       [44.7],\n",
    "       [40.1],\n",
    "       [46.8],\n",
    "       [45.6],\n",
    "       [54.1],\n",
    "       [42.1]])\n",
    "       \n",
    "       \n",
    "       \n",
    "       \n",
    "       "
   ]
  },
  {
   "cell_type": "markdown",
   "metadata": {},
   "source": [
    "# Training Model\n",
    "\n",
    "The 37 datasets are stored in a txt file \"Test data.txt\". These values are first extracted from the txt file and then separated into 2 seperate lists. These 2 lists are then randomly used to both generate the training set and "
   ]
  },
  {
   "cell_type": "markdown",
   "metadata": {},
   "source": [
    "# Verification and Accuracy\n",
    "\n",
    "Describe how you check the accuracy of your model and its result. State any analysis you have and the steps you have taken to improve its accuracy."
   ]
  },
  {
   "cell_type": "markdown",
   "metadata": {},
   "source": [
    "# Example Scripts"
   ]
  },
  {
   "cell_type": "markdown",
   "metadata": {},
   "source": [
    "Instruction:\n",
    "\n",
    "* Read an excel file with the following format:\n",
    "```\n",
    "time (s)\treading\n",
    "0.00\t    25.812\n",
    "0.90\t    28.562\n",
    "1.79\t    31.875\n",
    "2.68\t    35.062\n",
    "3.55\t    37.937\n",
    "4.43\t    40.687\n",
    "5.30\t    43.25\n",
    "```\n",
    "where the first column indicates the time in seconds and the second column indicates the sensor reading in Celsius. \n",
    "* Write a code to prepare the data, extract the features.\n",
    "* Write a code to split the data.\n",
    "* Write a code to train the model.\n",
    "* Write a code to predict the final temperature.\n",
    "* Write a code to check accuracy.\n",
    "\n",
    "**The script below is just for your example. You don't have to use it and you can write your own script.**\n",
    "\n"
   ]
  },
  {
   "cell_type": "code",
   "execution_count": null,
   "metadata": {},
   "outputs": [],
   "source": [
    "# write a code to read an excel file\n",
    "import pandas as pd\n",
    "import numpy as np\n",
    "from sklearn import linear_model \n",
    "from sklearn.metrics import mean_squared_error, r2_score\n",
    "\n",
    "# specify the base of your filename, e.g. temp_1.xlsx, temp_2.xlsx\n",
    "filename = 'temp_' \n",
    "\n",
    "# if you have more than one files, \n",
    "# you can use some key to differentiate them, e.g. '1', '2'\n",
    "filekeys = [] \n",
    "\n",
    "# this is to store the data for different files, \n",
    "# the keys are in filekeys\n",
    "dataframe = {} \n",
    "for key in filekeys:\n",
    "    dataframe[key] = pd.read_excel(filename + key + '.xlsx')\n"
   ]
  },
  {
   "cell_type": "code",
   "execution_count": null,
   "metadata": {
    "collapsed": true
   },
   "outputs": [],
   "source": [
    "# write a code to prepare the data for predicting\n",
    "def preprocess(df):\n",
    "    # use this function to extract the features from the data frame\n",
    "    pass\n",
    "\n",
    "data_processed = {}\n",
    "for key in filekeys:\n",
    "    data_processed[key]=preprocess(dataframe[key])"
   ]
  },
  {
   "cell_type": "code",
   "execution_count": null,
   "metadata": {},
   "outputs": [],
   "source": [
    "# write a code to split the data to train and test\n",
    "def prepare_train_test(data):\n",
    "    \n",
    "\n",
    "data_train, data_test = prepare_train_test(data_processed)"
   ]
  },
  {
   "cell_type": "code",
   "execution_count": null,
   "metadata": {},
   "outputs": [],
   "source": [
    "# write a code to train the model\n",
    "# the function should return the trained model\n",
    "def train_model(data):\n",
    "    pass\n",
    "\n",
    "model = train_model(data_train)"
   ]
  },
  {
   "cell_type": "code",
   "execution_count": null,
   "metadata": {
    "collapsed": true
   },
   "outputs": [],
   "source": [
    "# write a code to predict the final temperature\n",
    "# store the predicted temperature in a variable called \"predicted\"\n",
    "# predicted is a dictionary where the keys are listed in filekey\n",
    "\n",
    "predicted = {}\n",
    "for key in filekeys:\n",
    "    predicted[key]=model.predict(data_test[key])"
   ]
  },
  {
   "cell_type": "code",
   "execution_count": null,
   "metadata": {
    "collapsed": true
   },
   "outputs": [],
   "source": [
    "# write a code to check your accuracy\n",
    "\n"
   ]
  }
 ],
 "metadata": {
  "kernelspec": {
   "display_name": "Python 3",
   "language": "python",
   "name": "python3"
  },
  "language_info": {
   "codemirror_mode": {
    "name": "ipython",
    "version": 3
   },
   "file_extension": ".py",
   "mimetype": "text/x-python",
   "name": "python",
   "nbconvert_exporter": "python",
   "pygments_lexer": "ipython3",
   "version": "3.7.1"
  }
 },
 "nbformat": 4,
 "nbformat_minor": 2
}
